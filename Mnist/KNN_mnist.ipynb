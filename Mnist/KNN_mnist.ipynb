{
  "nbformat": 4,
  "nbformat_minor": 0,
  "metadata": {
    "colab": {
      "name": "KNN-mnist.ipynb",
      "provenance": [],
      "authorship_tag": "ABX9TyO0tugKSkhYJmxqTlXJTiV4",
      "include_colab_link": true
    },
    "kernelspec": {
      "name": "python3",
      "display_name": "Python 3"
    },
    "widgets": {
      "application/vnd.jupyter.widget-state+json": {
        "3fe8a8ee98d34ee2a90ec5d2a9f27773": {
          "model_module": "@jupyter-widgets/controls",
          "model_name": "HBoxModel",
          "state": {
            "_view_name": "HBoxView",
            "_dom_classes": [],
            "_model_name": "HBoxModel",
            "_view_module": "@jupyter-widgets/controls",
            "_model_module_version": "1.5.0",
            "_view_count": null,
            "_view_module_version": "1.5.0",
            "box_style": "",
            "layout": "IPY_MODEL_97774230527c4761ada2f7906c49b50d",
            "_model_module": "@jupyter-widgets/controls",
            "children": [
              "IPY_MODEL_7a21d05dfaaf4c24895fc0d4212bace2",
              "IPY_MODEL_d17a65b8fdab4c79baf7f0bf7bf85f1e"
            ]
          }
        },
        "97774230527c4761ada2f7906c49b50d": {
          "model_module": "@jupyter-widgets/base",
          "model_name": "LayoutModel",
          "state": {
            "_view_name": "LayoutView",
            "grid_template_rows": null,
            "right": null,
            "justify_content": null,
            "_view_module": "@jupyter-widgets/base",
            "overflow": null,
            "_model_module_version": "1.2.0",
            "_view_count": null,
            "flex_flow": null,
            "width": null,
            "min_width": null,
            "border": null,
            "align_items": null,
            "bottom": null,
            "_model_module": "@jupyter-widgets/base",
            "top": null,
            "grid_column": null,
            "overflow_y": null,
            "overflow_x": null,
            "grid_auto_flow": null,
            "grid_area": null,
            "grid_template_columns": null,
            "flex": null,
            "_model_name": "LayoutModel",
            "justify_items": null,
            "grid_row": null,
            "max_height": null,
            "align_content": null,
            "visibility": null,
            "align_self": null,
            "height": null,
            "min_height": null,
            "padding": null,
            "grid_auto_rows": null,
            "grid_gap": null,
            "max_width": null,
            "order": null,
            "_view_module_version": "1.2.0",
            "grid_template_areas": null,
            "object_position": null,
            "object_fit": null,
            "grid_auto_columns": null,
            "margin": null,
            "display": null,
            "left": null
          }
        },
        "7a21d05dfaaf4c24895fc0d4212bace2": {
          "model_module": "@jupyter-widgets/controls",
          "model_name": "FloatProgressModel",
          "state": {
            "_view_name": "ProgressView",
            "style": "IPY_MODEL_6f9934b12b6a4310b25be5b2ef9fcdad",
            "_dom_classes": [],
            "description": "100%",
            "_model_name": "FloatProgressModel",
            "bar_style": "success",
            "max": 50,
            "_view_module": "@jupyter-widgets/controls",
            "_model_module_version": "1.5.0",
            "value": 50,
            "_view_count": null,
            "_view_module_version": "1.5.0",
            "orientation": "horizontal",
            "min": 0,
            "description_tooltip": null,
            "_model_module": "@jupyter-widgets/controls",
            "layout": "IPY_MODEL_e530db63249a4d35a1f468d1357a8d57"
          }
        },
        "d17a65b8fdab4c79baf7f0bf7bf85f1e": {
          "model_module": "@jupyter-widgets/controls",
          "model_name": "HTMLModel",
          "state": {
            "_view_name": "HTMLView",
            "style": "IPY_MODEL_b0466fc81ab04efeaafa03faa49465f7",
            "_dom_classes": [],
            "description": "",
            "_model_name": "HTMLModel",
            "placeholder": "​",
            "_view_module": "@jupyter-widgets/controls",
            "_model_module_version": "1.5.0",
            "value": " 50/50 [01:08&lt;00:00,  1.37s/it]",
            "_view_count": null,
            "_view_module_version": "1.5.0",
            "description_tooltip": null,
            "_model_module": "@jupyter-widgets/controls",
            "layout": "IPY_MODEL_349e7a30e5dd4a56a0d1c307b67f4394"
          }
        },
        "6f9934b12b6a4310b25be5b2ef9fcdad": {
          "model_module": "@jupyter-widgets/controls",
          "model_name": "ProgressStyleModel",
          "state": {
            "_view_name": "StyleView",
            "_model_name": "ProgressStyleModel",
            "description_width": "initial",
            "_view_module": "@jupyter-widgets/base",
            "_model_module_version": "1.5.0",
            "_view_count": null,
            "_view_module_version": "1.2.0",
            "bar_color": null,
            "_model_module": "@jupyter-widgets/controls"
          }
        },
        "e530db63249a4d35a1f468d1357a8d57": {
          "model_module": "@jupyter-widgets/base",
          "model_name": "LayoutModel",
          "state": {
            "_view_name": "LayoutView",
            "grid_template_rows": null,
            "right": null,
            "justify_content": null,
            "_view_module": "@jupyter-widgets/base",
            "overflow": null,
            "_model_module_version": "1.2.0",
            "_view_count": null,
            "flex_flow": null,
            "width": null,
            "min_width": null,
            "border": null,
            "align_items": null,
            "bottom": null,
            "_model_module": "@jupyter-widgets/base",
            "top": null,
            "grid_column": null,
            "overflow_y": null,
            "overflow_x": null,
            "grid_auto_flow": null,
            "grid_area": null,
            "grid_template_columns": null,
            "flex": null,
            "_model_name": "LayoutModel",
            "justify_items": null,
            "grid_row": null,
            "max_height": null,
            "align_content": null,
            "visibility": null,
            "align_self": null,
            "height": null,
            "min_height": null,
            "padding": null,
            "grid_auto_rows": null,
            "grid_gap": null,
            "max_width": null,
            "order": null,
            "_view_module_version": "1.2.0",
            "grid_template_areas": null,
            "object_position": null,
            "object_fit": null,
            "grid_auto_columns": null,
            "margin": null,
            "display": null,
            "left": null
          }
        },
        "b0466fc81ab04efeaafa03faa49465f7": {
          "model_module": "@jupyter-widgets/controls",
          "model_name": "DescriptionStyleModel",
          "state": {
            "_view_name": "StyleView",
            "_model_name": "DescriptionStyleModel",
            "description_width": "",
            "_view_module": "@jupyter-widgets/base",
            "_model_module_version": "1.5.0",
            "_view_count": null,
            "_view_module_version": "1.2.0",
            "_model_module": "@jupyter-widgets/controls"
          }
        },
        "349e7a30e5dd4a56a0d1c307b67f4394": {
          "model_module": "@jupyter-widgets/base",
          "model_name": "LayoutModel",
          "state": {
            "_view_name": "LayoutView",
            "grid_template_rows": null,
            "right": null,
            "justify_content": null,
            "_view_module": "@jupyter-widgets/base",
            "overflow": null,
            "_model_module_version": "1.2.0",
            "_view_count": null,
            "flex_flow": null,
            "width": null,
            "min_width": null,
            "border": null,
            "align_items": null,
            "bottom": null,
            "_model_module": "@jupyter-widgets/base",
            "top": null,
            "grid_column": null,
            "overflow_y": null,
            "overflow_x": null,
            "grid_auto_flow": null,
            "grid_area": null,
            "grid_template_columns": null,
            "flex": null,
            "_model_name": "LayoutModel",
            "justify_items": null,
            "grid_row": null,
            "max_height": null,
            "align_content": null,
            "visibility": null,
            "align_self": null,
            "height": null,
            "min_height": null,
            "padding": null,
            "grid_auto_rows": null,
            "grid_gap": null,
            "max_width": null,
            "order": null,
            "_view_module_version": "1.2.0",
            "grid_template_areas": null,
            "object_position": null,
            "object_fit": null,
            "grid_auto_columns": null,
            "margin": null,
            "display": null,
            "left": null
          }
        },
        "135f08f3b4f7402891535681d19b79d8": {
          "model_module": "@jupyter-widgets/controls",
          "model_name": "HBoxModel",
          "state": {
            "_view_name": "HBoxView",
            "_dom_classes": [],
            "_model_name": "HBoxModel",
            "_view_module": "@jupyter-widgets/controls",
            "_model_module_version": "1.5.0",
            "_view_count": null,
            "_view_module_version": "1.5.0",
            "box_style": "",
            "layout": "IPY_MODEL_21be667b47d44503888d7f72ffbea90d",
            "_model_module": "@jupyter-widgets/controls",
            "children": [
              "IPY_MODEL_7d627748038f4dd499fce7f5cb57b171",
              "IPY_MODEL_dc70c357cfb74834b00fffed8b5745f0"
            ]
          }
        },
        "21be667b47d44503888d7f72ffbea90d": {
          "model_module": "@jupyter-widgets/base",
          "model_name": "LayoutModel",
          "state": {
            "_view_name": "LayoutView",
            "grid_template_rows": null,
            "right": null,
            "justify_content": null,
            "_view_module": "@jupyter-widgets/base",
            "overflow": null,
            "_model_module_version": "1.2.0",
            "_view_count": null,
            "flex_flow": null,
            "width": null,
            "min_width": null,
            "border": null,
            "align_items": null,
            "bottom": null,
            "_model_module": "@jupyter-widgets/base",
            "top": null,
            "grid_column": null,
            "overflow_y": null,
            "overflow_x": null,
            "grid_auto_flow": null,
            "grid_area": null,
            "grid_template_columns": null,
            "flex": null,
            "_model_name": "LayoutModel",
            "justify_items": null,
            "grid_row": null,
            "max_height": null,
            "align_content": null,
            "visibility": null,
            "align_self": null,
            "height": null,
            "min_height": null,
            "padding": null,
            "grid_auto_rows": null,
            "grid_gap": null,
            "max_width": null,
            "order": null,
            "_view_module_version": "1.2.0",
            "grid_template_areas": null,
            "object_position": null,
            "object_fit": null,
            "grid_auto_columns": null,
            "margin": null,
            "display": null,
            "left": null
          }
        },
        "7d627748038f4dd499fce7f5cb57b171": {
          "model_module": "@jupyter-widgets/controls",
          "model_name": "FloatProgressModel",
          "state": {
            "_view_name": "ProgressView",
            "style": "IPY_MODEL_2c2bf040b7fc4ec1bbbbfda40a74cbba",
            "_dom_classes": [],
            "description": "100%",
            "_model_name": "FloatProgressModel",
            "bar_style": "success",
            "max": 50,
            "_view_module": "@jupyter-widgets/controls",
            "_model_module_version": "1.5.0",
            "value": 50,
            "_view_count": null,
            "_view_module_version": "1.5.0",
            "orientation": "horizontal",
            "min": 0,
            "description_tooltip": null,
            "_model_module": "@jupyter-widgets/controls",
            "layout": "IPY_MODEL_176e905d835d4a2690e4e45e9d11fa0e"
          }
        },
        "dc70c357cfb74834b00fffed8b5745f0": {
          "model_module": "@jupyter-widgets/controls",
          "model_name": "HTMLModel",
          "state": {
            "_view_name": "HTMLView",
            "style": "IPY_MODEL_0d276dcad25f4be4817a794547c748bd",
            "_dom_classes": [],
            "description": "",
            "_model_name": "HTMLModel",
            "placeholder": "​",
            "_view_module": "@jupyter-widgets/controls",
            "_model_module_version": "1.5.0",
            "value": " 50/50 [01:22&lt;00:00,  1.64s/it]",
            "_view_count": null,
            "_view_module_version": "1.5.0",
            "description_tooltip": null,
            "_model_module": "@jupyter-widgets/controls",
            "layout": "IPY_MODEL_d5d3988c5f0a47599248efb071f44459"
          }
        },
        "2c2bf040b7fc4ec1bbbbfda40a74cbba": {
          "model_module": "@jupyter-widgets/controls",
          "model_name": "ProgressStyleModel",
          "state": {
            "_view_name": "StyleView",
            "_model_name": "ProgressStyleModel",
            "description_width": "initial",
            "_view_module": "@jupyter-widgets/base",
            "_model_module_version": "1.5.0",
            "_view_count": null,
            "_view_module_version": "1.2.0",
            "bar_color": null,
            "_model_module": "@jupyter-widgets/controls"
          }
        },
        "176e905d835d4a2690e4e45e9d11fa0e": {
          "model_module": "@jupyter-widgets/base",
          "model_name": "LayoutModel",
          "state": {
            "_view_name": "LayoutView",
            "grid_template_rows": null,
            "right": null,
            "justify_content": null,
            "_view_module": "@jupyter-widgets/base",
            "overflow": null,
            "_model_module_version": "1.2.0",
            "_view_count": null,
            "flex_flow": null,
            "width": null,
            "min_width": null,
            "border": null,
            "align_items": null,
            "bottom": null,
            "_model_module": "@jupyter-widgets/base",
            "top": null,
            "grid_column": null,
            "overflow_y": null,
            "overflow_x": null,
            "grid_auto_flow": null,
            "grid_area": null,
            "grid_template_columns": null,
            "flex": null,
            "_model_name": "LayoutModel",
            "justify_items": null,
            "grid_row": null,
            "max_height": null,
            "align_content": null,
            "visibility": null,
            "align_self": null,
            "height": null,
            "min_height": null,
            "padding": null,
            "grid_auto_rows": null,
            "grid_gap": null,
            "max_width": null,
            "order": null,
            "_view_module_version": "1.2.0",
            "grid_template_areas": null,
            "object_position": null,
            "object_fit": null,
            "grid_auto_columns": null,
            "margin": null,
            "display": null,
            "left": null
          }
        },
        "0d276dcad25f4be4817a794547c748bd": {
          "model_module": "@jupyter-widgets/controls",
          "model_name": "DescriptionStyleModel",
          "state": {
            "_view_name": "StyleView",
            "_model_name": "DescriptionStyleModel",
            "description_width": "",
            "_view_module": "@jupyter-widgets/base",
            "_model_module_version": "1.5.0",
            "_view_count": null,
            "_view_module_version": "1.2.0",
            "_model_module": "@jupyter-widgets/controls"
          }
        },
        "d5d3988c5f0a47599248efb071f44459": {
          "model_module": "@jupyter-widgets/base",
          "model_name": "LayoutModel",
          "state": {
            "_view_name": "LayoutView",
            "grid_template_rows": null,
            "right": null,
            "justify_content": null,
            "_view_module": "@jupyter-widgets/base",
            "overflow": null,
            "_model_module_version": "1.2.0",
            "_view_count": null,
            "flex_flow": null,
            "width": null,
            "min_width": null,
            "border": null,
            "align_items": null,
            "bottom": null,
            "_model_module": "@jupyter-widgets/base",
            "top": null,
            "grid_column": null,
            "overflow_y": null,
            "overflow_x": null,
            "grid_auto_flow": null,
            "grid_area": null,
            "grid_template_columns": null,
            "flex": null,
            "_model_name": "LayoutModel",
            "justify_items": null,
            "grid_row": null,
            "max_height": null,
            "align_content": null,
            "visibility": null,
            "align_self": null,
            "height": null,
            "min_height": null,
            "padding": null,
            "grid_auto_rows": null,
            "grid_gap": null,
            "max_width": null,
            "order": null,
            "_view_module_version": "1.2.0",
            "grid_template_areas": null,
            "object_position": null,
            "object_fit": null,
            "grid_auto_columns": null,
            "margin": null,
            "display": null,
            "left": null
          }
        }
      }
    }
  },
  "cells": [
    {
      "cell_type": "markdown",
      "metadata": {
        "id": "view-in-github",
        "colab_type": "text"
      },
      "source": [
        "<a href=\"https://colab.research.google.com/github/mopala/ML-DL/blob/main/Mnist/KNN_mnist.ipynb\" target=\"_parent\"><img src=\"https://colab.research.google.com/assets/colab-badge.svg\" alt=\"Open In Colab\"/></a>"
      ]
    },
    {
      "cell_type": "code",
      "metadata": {
        "id": "Mw7bQIy7wyUZ"
      },
      "source": [
        "import matplotlib.pyplot as plt\n",
        "import numpy as np\n",
        "import pandas as pd\n",
        "from tqdm.auto import tqdm\n",
        "import scipy.stats as sstats\n",
        "import seaborn as sns\n",
        "from sklearn import datasets\n",
        "import tensorflow as tf"
      ],
      "execution_count": 32,
      "outputs": []
    },
    {
      "cell_type": "code",
      "metadata": {
        "id": "l8l053LAxSvJ"
      },
      "source": [
        "mnist=tf.keras.datasets.mnist\n",
        "(X_train,y_train),(X_test,y_test)=mnist.load_data()\n",
        "x_train=np.array(X_train)\n",
        "x_train=x_train.reshape([-1,28,28,1])\n",
        "x_train=x_train/255\n",
        "x_test=np.array(X_test)\n",
        "x_test=x_test/255\n",
        "x_test=x_test.reshape([-1,28,28,1])"
      ],
      "execution_count": 33,
      "outputs": []
    },
    {
      "cell_type": "code",
      "metadata": {
        "colab": {
          "base_uri": "https://localhost:8080/"
        },
        "id": "edWHzaKC12f5",
        "outputId": "aad41e7f-602b-4d1a-876e-90868d2f908f"
      },
      "source": [
        "x_train_partial=x_train[0:50000,:,:,:]\n",
        "x_val=x_train[50000:60000,:,:,:]\n",
        "y_train_partial=y_train[0:50000]\n",
        "y_val=y_train[50000:60000]\n",
        "print(x_train_partial.shape)\n",
        "print(x_val.shape)\n",
        "print(y_train_partial.shape)\n",
        "print(y_val.shape)\n",
        "print(y_train.shape)"
      ],
      "execution_count": 34,
      "outputs": [
        {
          "output_type": "stream",
          "text": [
            "(50000, 28, 28, 1)\n",
            "(10000, 28, 28, 1)\n",
            "(50000,)\n",
            "(10000,)\n",
            "(60000,)\n"
          ],
          "name": "stdout"
        }
      ]
    },
    {
      "cell_type": "code",
      "metadata": {
        "id": "DrDUwczNw9LB"
      },
      "source": [
        "def err_rates(preds, test_Y):\n",
        "    ret = {}\n",
        "    for k, preds_k in  preds.items():\n",
        "        pom= preds_k != test_Y\n",
        "        ret[k] = sum(pom)/len(test_Y)\n",
        "    return ret"
      ],
      "execution_count": 35,
      "outputs": []
    },
    {
      "cell_type": "code",
      "metadata": {
        "id": "oMXdP5g4w6XH"
      },
      "source": [
        "def KNN(train_X, train_Y, test_X, ks):\n",
        "    train_X = train_X.astype(np.float32)\n",
        "    test_X = test_X.astype(np.float32)\n",
        "\n",
        "    preds = {}\n",
        "    Ntrain,_= train_X.shape\n",
        "    Ntest,_=test_X.shape\n",
        "    dists = np.zeros([Ntest,Ntrain])\n",
        "    w1=np.sum(test_X*test_X,axis=1,keepdims=True)\n",
        "    w2=np.sum(train_X.T*train_X.T,axis=0,keepdims=True)\n",
        "    dists=np.matmul(test_X,train_X.T)*-2.0\n",
        "    dists=dists+w1\n",
        "    dists=dists+w2\n",
        "    \n",
        "    assert(dists.any()>=0)\n",
        "    closest = np.argsort(dists)\n",
        "    \n",
        "    targets = train_Y[closest]\n",
        "    for k in ks:\n",
        "        predictions = sstats.mode(targets[:,0:k],axis=1)\n",
        "        predictions=predictions[0]\n",
        "        predictions = predictions.ravel()\n",
        "        preds[k] = predictions\n",
        "    return preds"
      ],
      "execution_count": 36,
      "outputs": []
    },
    {
      "cell_type": "code",
      "metadata": {
        "id": "m6ElDpsaw_DQ"
      },
      "source": [
        "def batched_KNN(train_X, train_Y, test_X, ks, verbose=False, batch_size=200):\n",
        "    all_preds = {k: [] for k in ks}\n",
        "    for i in tqdm(range(0, test_X.shape[0], batch_size)):\n",
        "        batch_X = test_X[i:i + batch_size]\n",
        "        \n",
        "        res=KNN(train_X,train_Y,batch_X,ks)\n",
        "        for k in all_preds.keys():\n",
        "            res[k]=res[k].reshape(batch_size,1)\n",
        "            if i==0:\n",
        "                all_preds[k]=res[k]\n",
        "            else:\n",
        "                all_preds[k] = np.concatenate((all_preds[k],res[k]))\n",
        "    return all_preds"
      ],
      "execution_count": 37,
      "outputs": []
    },
    {
      "cell_type": "code",
      "metadata": {
        "colab": {
          "base_uri": "https://localhost:8080/",
          "height": 332,
          "referenced_widgets": [
            "3fe8a8ee98d34ee2a90ec5d2a9f27773",
            "97774230527c4761ada2f7906c49b50d",
            "7a21d05dfaaf4c24895fc0d4212bace2",
            "d17a65b8fdab4c79baf7f0bf7bf85f1e",
            "6f9934b12b6a4310b25be5b2ef9fcdad",
            "e530db63249a4d35a1f468d1357a8d57",
            "b0466fc81ab04efeaafa03faa49465f7",
            "349e7a30e5dd4a56a0d1c307b67f4394"
          ]
        },
        "id": "79l0NwvUxHqE",
        "outputId": "38df8935-94eb-4b9c-d3b0-d9ca2ddc3475"
      },
      "source": [
        "ks = [1, 3, 5, 7, 9]\n",
        "preds = batched_KNN(\n",
        "    x_train_partial.astype('float32').reshape(-1, 28*28), y_train_partial,\n",
        "    x_val.astype('float32').reshape(-1, 28*28),\n",
        "    ks)\n",
        "mnist_validation_errs = err_rates(preds, y_val.reshape(10000,1))\n",
        "\n",
        "plt.plot(ks, [mnist_validation_errs[k] for k in ks])"
      ],
      "execution_count": 39,
      "outputs": [
        {
          "output_type": "display_data",
          "data": {
            "application/vnd.jupyter.widget-view+json": {
              "model_id": "3fe8a8ee98d34ee2a90ec5d2a9f27773",
              "version_minor": 0,
              "version_major": 2
            },
            "text/plain": [
              "HBox(children=(FloatProgress(value=0.0, max=50.0), HTML(value='')))"
            ]
          },
          "metadata": {
            "tags": []
          }
        },
        {
          "output_type": "stream",
          "text": [
            "\n"
          ],
          "name": "stdout"
        },
        {
          "output_type": "execute_result",
          "data": {
            "text/plain": [
              "[<matplotlib.lines.Line2D at 0x7f3d4b298a58>]"
            ]
          },
          "metadata": {
            "tags": []
          },
          "execution_count": 39
        },
        {
          "output_type": "display_data",
          "data": {
            "image/png": "[encoded data removed]",
            "text/plain": [
              "<Figure size 432x288 with 1 Axes>"
            ]
          },
          "metadata": {
            "tags": [],
            "needs_background": "light"
          }
        }
      ]
    },
    {
      "cell_type": "code",
      "metadata": {
        "colab": {
          "base_uri": "https://localhost:8080/",
          "height": 153,
          "referenced_widgets": [
            "135f08f3b4f7402891535681d19b79d8",
            "21be667b47d44503888d7f72ffbea90d",
            "7d627748038f4dd499fce7f5cb57b171",
            "dc70c357cfb74834b00fffed8b5745f0",
            "2c2bf040b7fc4ec1bbbbfda40a74cbba",
            "176e905d835d4a2690e4e45e9d11fa0e",
            "0d276dcad25f4be4817a794547c748bd",
            "d5d3988c5f0a47599248efb071f44459"
          ]
        },
        "id": "49b5VgbJxMh1",
        "outputId": "964d81d2-6c3a-45a9-dcb2-021af5df3e88"
      },
      "source": [
        "import timeit\n",
        "\n",
        "start = timeit.default_timer()\n",
        "\n",
        "best_K = 3\n",
        "\n",
        "test_preds = batched_KNN(\n",
        "    x_train.astype('float32').reshape(-1, 28*28), y_train,\n",
        "    x_test.astype('float32').reshape(-1, 28*28),\n",
        "    ks)\n",
        "mnist_test_errs = err_rates(test_preds, y_test.reshape(10000,1))\n",
        "mnist_test_errs[best_K]=mnist_test_errs[best_K].reshape(1,1)\n",
        "print(f\"\\n\\nWhen k={best_K} the test error rate is {mnist_test_errs[best_K] * 100.0}%%\")\n",
        "print(mnist_test_errs[best_K] * 100.0)\n",
        "\n",
        "stop = timeit.default_timer()\n",
        "\n",
        "print('Time: ', stop - start)  "
      ],
      "execution_count": 41,
      "outputs": [
        {
          "output_type": "display_data",
          "data": {
            "application/vnd.jupyter.widget-view+json": {
              "model_id": "135f08f3b4f7402891535681d19b79d8",
              "version_minor": 0,
              "version_major": 2
            },
            "text/plain": [
              "HBox(children=(FloatProgress(value=0.0, max=50.0), HTML(value='')))"
            ]
          },
          "metadata": {
            "tags": []
          }
        },
        {
          "output_type": "stream",
          "text": [
            "\n",
            "\n",
            "\n",
            "When k=3 the test error rate is [[2.95]]%%\n",
            "[[2.95]]\n",
            "Time:  82.2271535320001\n"
          ],
          "name": "stdout"
        }
      ]
    },
    {
      "cell_type": "code",
      "metadata": {
        "id": "Gm32SDvqAkmL"
      },
      "source": [
        ""
      ],
      "execution_count": null,
      "outputs": []
    }
  ]
}