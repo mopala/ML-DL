{
  "nbformat": 4,
  "nbformat_minor": 0,
  "metadata": {
    "colab": {
      "name": "KNN_with_lsh.ipynb",
      "provenance": [],
      "collapsed_sections": [],
      "authorship_tag": "ABX9TyNiSAPQHoxUBhuaXLa8eyz8",
      "include_colab_link": true
    },
    "kernelspec": {
      "name": "python3",
      "display_name": "Python 3"
    },
    "widgets": {
      "application/vnd.jupyter.widget-state+json": {
        "3b146f9c4ab64ac7b8b70b235242b776": {
          "model_module": "@jupyter-widgets/controls",
          "model_name": "HBoxModel",
          "state": {
            "_view_name": "HBoxView",
            "_dom_classes": [],
            "_model_name": "HBoxModel",
            "_view_module": "@jupyter-widgets/controls",
            "_model_module_version": "1.5.0",
            "_view_count": null,
            "_view_module_version": "1.5.0",
            "box_style": "",
            "layout": "IPY_MODEL_0bf5e11f45154da099020080dc4786fb",
            "_model_module": "@jupyter-widgets/controls",
            "children": [
              "IPY_MODEL_d0d52815a47b4f159cdec8d144336179",
              "IPY_MODEL_4ef47bfdb061432b8853f61836750f70"
            ]
          }
        },
        "0bf5e11f45154da099020080dc4786fb": {
          "model_module": "@jupyter-widgets/base",
          "model_name": "LayoutModel",
          "state": {
            "_view_name": "LayoutView",
            "grid_template_rows": null,
            "right": null,
            "justify_content": null,
            "_view_module": "@jupyter-widgets/base",
            "overflow": null,
            "_model_module_version": "1.2.0",
            "_view_count": null,
            "flex_flow": null,
            "width": null,
            "min_width": null,
            "border": null,
            "align_items": null,
            "bottom": null,
            "_model_module": "@jupyter-widgets/base",
            "top": null,
            "grid_column": null,
            "overflow_y": null,
            "overflow_x": null,
            "grid_auto_flow": null,
            "grid_area": null,
            "grid_template_columns": null,
            "flex": null,
            "_model_name": "LayoutModel",
            "justify_items": null,
            "grid_row": null,
            "max_height": null,
            "align_content": null,
            "visibility": null,
            "align_self": null,
            "height": null,
            "min_height": null,
            "padding": null,
            "grid_auto_rows": null,
            "grid_gap": null,
            "max_width": null,
            "order": null,
            "_view_module_version": "1.2.0",
            "grid_template_areas": null,
            "object_position": null,
            "object_fit": null,
            "grid_auto_columns": null,
            "margin": null,
            "display": null,
            "left": null
          }
        },
        "d0d52815a47b4f159cdec8d144336179": {
          "model_module": "@jupyter-widgets/controls",
          "model_name": "FloatProgressModel",
          "state": {
            "_view_name": "ProgressView",
            "style": "IPY_MODEL_72449eb85ec94dab9633103e72b60270",
            "_dom_classes": [],
            "description": "100%",
            "_model_name": "FloatProgressModel",
            "bar_style": "success",
            "max": 1,
            "_view_module": "@jupyter-widgets/controls",
            "_model_module_version": "1.5.0",
            "value": 1,
            "_view_count": null,
            "_view_module_version": "1.5.0",
            "orientation": "horizontal",
            "min": 0,
            "description_tooltip": null,
            "_model_module": "@jupyter-widgets/controls",
            "layout": "IPY_MODEL_ff23392a30c248759a3e0ed66f65e487"
          }
        },
        "4ef47bfdb061432b8853f61836750f70": {
          "model_module": "@jupyter-widgets/controls",
          "model_name": "HTMLModel",
          "state": {
            "_view_name": "HTMLView",
            "style": "IPY_MODEL_9ede4b0785c4457fb98a740f5047f993",
            "_dom_classes": [],
            "description": "",
            "_model_name": "HTMLModel",
            "placeholder": "​",
            "_view_module": "@jupyter-widgets/controls",
            "_model_module_version": "1.5.0",
            "value": " 1/1 [00:11&lt;00:00, 11.68s/it]",
            "_view_count": null,
            "_view_module_version": "1.5.0",
            "description_tooltip": null,
            "_model_module": "@jupyter-widgets/controls",
            "layout": "IPY_MODEL_573df03d5ee640b39e81371b7494e15b"
          }
        },
        "72449eb85ec94dab9633103e72b60270": {
          "model_module": "@jupyter-widgets/controls",
          "model_name": "ProgressStyleModel",
          "state": {
            "_view_name": "StyleView",
            "_model_name": "ProgressStyleModel",
            "description_width": "initial",
            "_view_module": "@jupyter-widgets/base",
            "_model_module_version": "1.5.0",
            "_view_count": null,
            "_view_module_version": "1.2.0",
            "bar_color": null,
            "_model_module": "@jupyter-widgets/controls"
          }
        },
        "ff23392a30c248759a3e0ed66f65e487": {
          "model_module": "@jupyter-widgets/base",
          "model_name": "LayoutModel",
          "state": {
            "_view_name": "LayoutView",
            "grid_template_rows": null,
            "right": null,
            "justify_content": null,
            "_view_module": "@jupyter-widgets/base",
            "overflow": null,
            "_model_module_version": "1.2.0",
            "_view_count": null,
            "flex_flow": null,
            "width": null,
            "min_width": null,
            "border": null,
            "align_items": null,
            "bottom": null,
            "_model_module": "@jupyter-widgets/base",
            "top": null,
            "grid_column": null,
            "overflow_y": null,
            "overflow_x": null,
            "grid_auto_flow": null,
            "grid_area": null,
            "grid_template_columns": null,
            "flex": null,
            "_model_name": "LayoutModel",
            "justify_items": null,
            "grid_row": null,
            "max_height": null,
            "align_content": null,
            "visibility": null,
            "align_self": null,
            "height": null,
            "min_height": null,
            "padding": null,
            "grid_auto_rows": null,
            "grid_gap": null,
            "max_width": null,
            "order": null,
            "_view_module_version": "1.2.0",
            "grid_template_areas": null,
            "object_position": null,
            "object_fit": null,
            "grid_auto_columns": null,
            "margin": null,
            "display": null,
            "left": null
          }
        },
        "9ede4b0785c4457fb98a740f5047f993": {
          "model_module": "@jupyter-widgets/controls",
          "model_name": "DescriptionStyleModel",
          "state": {
            "_view_name": "StyleView",
            "_model_name": "DescriptionStyleModel",
            "description_width": "",
            "_view_module": "@jupyter-widgets/base",
            "_model_module_version": "1.5.0",
            "_view_count": null,
            "_view_module_version": "1.2.0",
            "_model_module": "@jupyter-widgets/controls"
          }
        },
        "573df03d5ee640b39e81371b7494e15b": {
          "model_module": "@jupyter-widgets/base",
          "model_name": "LayoutModel",
          "state": {
            "_view_name": "LayoutView",
            "grid_template_rows": null,
            "right": null,
            "justify_content": null,
            "_view_module": "@jupyter-widgets/base",
            "overflow": null,
            "_model_module_version": "1.2.0",
            "_view_count": null,
            "flex_flow": null,
            "width": null,
            "min_width": null,
            "border": null,
            "align_items": null,
            "bottom": null,
            "_model_module": "@jupyter-widgets/base",
            "top": null,
            "grid_column": null,
            "overflow_y": null,
            "overflow_x": null,
            "grid_auto_flow": null,
            "grid_area": null,
            "grid_template_columns": null,
            "flex": null,
            "_model_name": "LayoutModel",
            "justify_items": null,
            "grid_row": null,
            "max_height": null,
            "align_content": null,
            "visibility": null,
            "align_self": null,
            "height": null,
            "min_height": null,
            "padding": null,
            "grid_auto_rows": null,
            "grid_gap": null,
            "max_width": null,
            "order": null,
            "_view_module_version": "1.2.0",
            "grid_template_areas": null,
            "object_position": null,
            "object_fit": null,
            "grid_auto_columns": null,
            "margin": null,
            "display": null,
            "left": null
          }
        },
        "0df248ef3f7c4fd18663f6b1f66b4630": {
          "model_module": "@jupyter-widgets/controls",
          "model_name": "HBoxModel",
          "state": {
            "_view_name": "HBoxView",
            "_dom_classes": [],
            "_model_name": "HBoxModel",
            "_view_module": "@jupyter-widgets/controls",
            "_model_module_version": "1.5.0",
            "_view_count": null,
            "_view_module_version": "1.5.0",
            "box_style": "",
            "layout": "IPY_MODEL_f18bb77b8b054be6b4c3b8eb1af2cc02",
            "_model_module": "@jupyter-widgets/controls",
            "children": [
              "IPY_MODEL_748e2d145d9e4e8d80c54ee50a54502d",
              "IPY_MODEL_642de408a559422e831e8cc394982533"
            ]
          }
        },
        "f18bb77b8b054be6b4c3b8eb1af2cc02": {
          "model_module": "@jupyter-widgets/base",
          "model_name": "LayoutModel",
          "state": {
            "_view_name": "LayoutView",
            "grid_template_rows": null,
            "right": null,
            "justify_content": null,
            "_view_module": "@jupyter-widgets/base",
            "overflow": null,
            "_model_module_version": "1.2.0",
            "_view_count": null,
            "flex_flow": null,
            "width": null,
            "min_width": null,
            "border": null,
            "align_items": null,
            "bottom": null,
            "_model_module": "@jupyter-widgets/base",
            "top": null,
            "grid_column": null,
            "overflow_y": null,
            "overflow_x": null,
            "grid_auto_flow": null,
            "grid_area": null,
            "grid_template_columns": null,
            "flex": null,
            "_model_name": "LayoutModel",
            "justify_items": null,
            "grid_row": null,
            "max_height": null,
            "align_content": null,
            "visibility": null,
            "align_self": null,
            "height": null,
            "min_height": null,
            "padding": null,
            "grid_auto_rows": null,
            "grid_gap": null,
            "max_width": null,
            "order": null,
            "_view_module_version": "1.2.0",
            "grid_template_areas": null,
            "object_position": null,
            "object_fit": null,
            "grid_auto_columns": null,
            "margin": null,
            "display": null,
            "left": null
          }
        },
        "748e2d145d9e4e8d80c54ee50a54502d": {
          "model_module": "@jupyter-widgets/controls",
          "model_name": "FloatProgressModel",
          "state": {
            "_view_name": "ProgressView",
            "style": "IPY_MODEL_39451c1148064a2cb0ad0bec2400764d",
            "_dom_classes": [],
            "description": "100%",
            "_model_name": "FloatProgressModel",
            "bar_style": "success",
            "max": 1,
            "_view_module": "@jupyter-widgets/controls",
            "_model_module_version": "1.5.0",
            "value": 1,
            "_view_count": null,
            "_view_module_version": "1.5.0",
            "orientation": "horizontal",
            "min": 0,
            "description_tooltip": null,
            "_model_module": "@jupyter-widgets/controls",
            "layout": "IPY_MODEL_3be8f51bc43a4788aca5dc256c503d89"
          }
        },
        "642de408a559422e831e8cc394982533": {
          "model_module": "@jupyter-widgets/controls",
          "model_name": "HTMLModel",
          "state": {
            "_view_name": "HTMLView",
            "style": "IPY_MODEL_1b11a10638e5414c905dc0164d2018bd",
            "_dom_classes": [],
            "description": "",
            "_model_name": "HTMLModel",
            "placeholder": "​",
            "_view_module": "@jupyter-widgets/controls",
            "_model_module_version": "1.5.0",
            "value": " 1/1 [00:10&lt;00:00, 10.24s/it]",
            "_view_count": null,
            "_view_module_version": "1.5.0",
            "description_tooltip": null,
            "_model_module": "@jupyter-widgets/controls",
            "layout": "IPY_MODEL_b92cd4c1381442dd8dbbfc24e62011e4"
          }
        },
        "39451c1148064a2cb0ad0bec2400764d": {
          "model_module": "@jupyter-widgets/controls",
          "model_name": "ProgressStyleModel",
          "state": {
            "_view_name": "StyleView",
            "_model_name": "ProgressStyleModel",
            "description_width": "initial",
            "_view_module": "@jupyter-widgets/base",
            "_model_module_version": "1.5.0",
            "_view_count": null,
            "_view_module_version": "1.2.0",
            "bar_color": null,
            "_model_module": "@jupyter-widgets/controls"
          }
        },
        "3be8f51bc43a4788aca5dc256c503d89": {
          "model_module": "@jupyter-widgets/base",
          "model_name": "LayoutModel",
          "state": {
            "_view_name": "LayoutView",
            "grid_template_rows": null,
            "right": null,
            "justify_content": null,
            "_view_module": "@jupyter-widgets/base",
            "overflow": null,
            "_model_module_version": "1.2.0",
            "_view_count": null,
            "flex_flow": null,
            "width": null,
            "min_width": null,
            "border": null,
            "align_items": null,
            "bottom": null,
            "_model_module": "@jupyter-widgets/base",
            "top": null,
            "grid_column": null,
            "overflow_y": null,
            "overflow_x": null,
            "grid_auto_flow": null,
            "grid_area": null,
            "grid_template_columns": null,
            "flex": null,
            "_model_name": "LayoutModel",
            "justify_items": null,
            "grid_row": null,
            "max_height": null,
            "align_content": null,
            "visibility": null,
            "align_self": null,
            "height": null,
            "min_height": null,
            "padding": null,
            "grid_auto_rows": null,
            "grid_gap": null,
            "max_width": null,
            "order": null,
            "_view_module_version": "1.2.0",
            "grid_template_areas": null,
            "object_position": null,
            "object_fit": null,
            "grid_auto_columns": null,
            "margin": null,
            "display": null,
            "left": null
          }
        },
        "1b11a10638e5414c905dc0164d2018bd": {
          "model_module": "@jupyter-widgets/controls",
          "model_name": "DescriptionStyleModel",
          "state": {
            "_view_name": "StyleView",
            "_model_name": "DescriptionStyleModel",
            "description_width": "",
            "_view_module": "@jupyter-widgets/base",
            "_model_module_version": "1.5.0",
            "_view_count": null,
            "_view_module_version": "1.2.0",
            "_model_module": "@jupyter-widgets/controls"
          }
        },
        "b92cd4c1381442dd8dbbfc24e62011e4": {
          "model_module": "@jupyter-widgets/base",
          "model_name": "LayoutModel",
          "state": {
            "_view_name": "LayoutView",
            "grid_template_rows": null,
            "right": null,
            "justify_content": null,
            "_view_module": "@jupyter-widgets/base",
            "overflow": null,
            "_model_module_version": "1.2.0",
            "_view_count": null,
            "flex_flow": null,
            "width": null,
            "min_width": null,
            "border": null,
            "align_items": null,
            "bottom": null,
            "_model_module": "@jupyter-widgets/base",
            "top": null,
            "grid_column": null,
            "overflow_y": null,
            "overflow_x": null,
            "grid_auto_flow": null,
            "grid_area": null,
            "grid_template_columns": null,
            "flex": null,
            "_model_name": "LayoutModel",
            "justify_items": null,
            "grid_row": null,
            "max_height": null,
            "align_content": null,
            "visibility": null,
            "align_self": null,
            "height": null,
            "min_height": null,
            "padding": null,
            "grid_auto_rows": null,
            "grid_gap": null,
            "max_width": null,
            "order": null,
            "_view_module_version": "1.2.0",
            "grid_template_areas": null,
            "object_position": null,
            "object_fit": null,
            "grid_auto_columns": null,
            "margin": null,
            "display": null,
            "left": null
          }
        }
      }
    }
  },
  "cells": [
    {
      "cell_type": "markdown",
      "metadata": {
        "id": "view-in-github",
        "colab_type": "text"
      },
      "source": [
        "<a href=\"https://colab.research.google.com/github/mopala/ML-DL/blob/main/Mnist/KNN_with_lsh.ipynb\" target=\"_parent\"><img src=\"https://colab.research.google.com/assets/colab-badge.svg\" alt=\"Open In Colab\"/></a>"
      ]
    },
    {
      "cell_type": "markdown",
      "metadata": {
        "id": "n8VZlmtZFzMY"
      },
      "source": [
        "We are doing KNN with locality-sensitive hasing, where our hash function is H(x) and it is given by logical and operation of some number (in our case 3) hash functions h_i(x), given by formula h_i(x)=sgn(x*p),where * means dot product and p is some random vector."
      ]
    },
    {
      "cell_type": "code",
      "metadata": {
        "id": "bvA27hoEFydi"
      },
      "source": [
        "import matplotlib.pyplot as plt\n",
        "import numpy as np\n",
        "import pandas as pd\n",
        "from tqdm.auto import tqdm\n",
        "import scipy.stats as sstats\n",
        "import seaborn as sns\n",
        "from sklearn import datasets\n",
        "import tensorflow as tf"
      ],
      "execution_count": null,
      "outputs": []
    },
    {
      "cell_type": "code",
      "metadata": {
        "colab": {
          "base_uri": "https://localhost:8080/"
        },
        "id": "fStNm2OCBxjF",
        "outputId": "8b3b67a9-2738-4d61-c385-4d156cc41563"
      },
      "source": [
        "mnist=tf.keras.datasets.mnist\n",
        "(X_train,y_train),(X_test,y_test)=mnist.load_data()\n",
        "x_train=np.array(X_train)\n",
        "x_train=x_train.reshape([-1,28,28,1])\n",
        "x_train=x_train/255\n",
        "x_test=np.array(X_test)\n",
        "x_test=x_test/255\n",
        "x_test=x_test.reshape([-1,28,28,1])"
      ],
      "execution_count": 2,
      "outputs": [
        {
          "output_type": "stream",
          "text": [
            "Downloading data from https://storage.googleapis.com/tensorflow/tf-keras-datasets/mnist.npz\n",
            "11493376/11490434 [==============================] - 0s 0us/step\n"
          ],
          "name": "stdout"
        }
      ]
    },
    {
      "cell_type": "code",
      "metadata": {
        "colab": {
          "base_uri": "https://localhost:8080/"
        },
        "id": "caSgSqtPBz61",
        "outputId": "b786aab6-42e0-4b96-c4b9-9eab0d2b6561"
      },
      "source": [
        "x_train_partial=x_train[0:50000,:,:,:]\n",
        "x_val=x_train[50000:60000,:,:,:]\n",
        "y_train_partial=y_train[0:50000]\n",
        "y_val=y_train[50000:60000]\n",
        "print(x_train_partial.shape)\n",
        "print(x_val.shape)\n",
        "print(y_train_partial.shape)\n",
        "print(y_val.shape)\n",
        "print(y_train.shape)"
      ],
      "execution_count": 3,
      "outputs": [
        {
          "output_type": "stream",
          "text": [
            "(50000, 28, 28, 1)\n",
            "(10000, 28, 28, 1)\n",
            "(50000,)\n",
            "(10000,)\n",
            "(60000,)\n"
          ],
          "name": "stdout"
        }
      ]
    },
    {
      "cell_type": "code",
      "metadata": {
        "id": "JFhTlrY6B3N1"
      },
      "source": [
        "def err_rates(preds, test_Y):\n",
        "    ret = {}\n",
        "    for k, preds_k in  preds.items():\n",
        "        pom= preds_k != test_Y\n",
        "        ret[k] = sum(pom)/len(test_Y)\n",
        "    return ret"
      ],
      "execution_count": 4,
      "outputs": []
    },
    {
      "cell_type": "code",
      "metadata": {
        "id": "pWwNkWGcB5xN"
      },
      "source": [
        "def get_vector():\n",
        "    return np.random.rand(784,1)*2-1\n",
        "def hasz(x,p):\n",
        "    l=np.dot(x,p)\n",
        "    if(l>=0):\n",
        "        return 1\n",
        "    else:\n",
        "        return -1\n",
        "def dist_matrix(A,B):\n",
        "    n1,m1=A.shape\n",
        "    n2,m2=B.shape\n",
        "    dists = np.matmul(A,B.T)/np.linalg.norm(A,axis=1,keepdims=True)/np.linalg.norm(B.T,axis=0,keepdims=True)\n",
        "    return dists"
      ],
      "execution_count": 5,
      "outputs": []
    },
    {
      "cell_type": "code",
      "metadata": {
        "id": "2uKJc-hmB-LR"
      },
      "source": [
        "def KNN_1(train_X, train_Y, test_X, ks):\n",
        "    preds = {}\n",
        "\n",
        "    if len(test_X)==0:\n",
        "        for k in ks:\n",
        "            preds[k]=[]\n",
        "        return preds\n",
        "    if len(train_X)==0:\n",
        "        for k in ks:\n",
        "            preds[k]=[0 for i in range(test_X.size)]        \n",
        "        return preds\n",
        "    train_X=np.array(train_X)\n",
        "    test_X=np.array(test_X)\n",
        "    train_Y=np.array(train_Y)\n",
        "    train_X = train_X.astype(np.float32)\n",
        "    test_X = test_X.astype(np.float32)\n",
        "\n",
        "    dists=-dist_matrix(test_X,train_X)\n",
        "    assert(dists.any()>=0)\n",
        "    closest = np.argsort(dists)\n",
        "    \n",
        "    targets = train_Y[closest]\n",
        "    for k in ks:\n",
        "        predictions = sstats.mode(targets[:,0:k],axis=1)\n",
        "        predictions=predictions[0]\n",
        "        predictions = predictions.ravel()\n",
        "        preds[k] = predictions\n",
        "\n",
        "    return preds"
      ],
      "execution_count": 6,
      "outputs": []
    },
    {
      "cell_type": "code",
      "metadata": {
        "id": "5h598ZHjCJWJ"
      },
      "source": [
        "def KNN_with_lsh(train_X, train_Y, test_X, ks,ile):\n",
        "    train_X=np.array(train_X)\n",
        "    test_X=np.array(test_X)\n",
        "    train_Y=np.array(train_Y)\n",
        "    train_X = train_X.astype(np.float32)\n",
        "    test_X = test_X.astype(np.float32)\n",
        "    preds = {-1:{},1:{}}\n",
        "\n",
        "    Ntrain= train_X.shape[0]\n",
        "    Ntest=test_X.shape[0]\n",
        "    buckets_X_train={-1:[],1:[]}\n",
        "    buckets_X_test={-1:[],1:[]}\n",
        "    buckets_Y_train={-1:[],1:[]}\n",
        "    p=get_vector()\n",
        "    dict={}\n",
        "    for i in range(Ntrain):\n",
        "        h=hasz(train_X[i,:],p)\n",
        "        buckets_X_train[h].append(train_X[i,:])\n",
        "        buckets_Y_train[h].append(train_Y[i])\n",
        "    dict_h={-1:-1,1:-1}\n",
        "    for i in range(Ntest):\n",
        "        h=hasz(test_X[i,:],p)\n",
        "        dict_h[h]+=1\n",
        "        dict[i]=[h,dict_h[h]]\n",
        "        buckets_X_test[h].append(test_X[i,:])\n",
        "\n",
        "    if ile==0:\n",
        "        preds_1=KNN_1(buckets_X_train[-1],buckets_Y_train[-1],buckets_X_test[-1],ks)\n",
        "        preds_2=KNN_1(buckets_X_train[1],buckets_Y_train[1],buckets_X_test[1],ks)\n",
        "    else:\n",
        "        preds_1=KNN_with_lsh(buckets_X_train[-1],buckets_Y_train[-1],buckets_X_test[-1],ks,ile-1)\n",
        "        preds_2=KNN_with_lsh(buckets_X_train[1],buckets_Y_train[1],buckets_X_test[1],ks,ile-1)\n",
        "    preds={}\n",
        "    for k in ks:\n",
        "        lista=[0 for i in range(Ntest)]\n",
        "        lista1=preds_1[k]\n",
        "        lista2=preds_2[k]\n",
        "\n",
        "        for i in range(Ntest):\n",
        "            h,nr=dict[i]\n",
        "            if h==-1:\n",
        "                lista[i]=lista1[nr]\n",
        "            else:\n",
        "                lista[i]=lista2[nr]\n",
        "        preds[k]=np.array(lista)\n",
        "    return preds"
      ],
      "execution_count": 10,
      "outputs": []
    },
    {
      "cell_type": "code",
      "metadata": {
        "id": "QU4Yh0tnCX4T"
      },
      "source": [
        "def batched_KNN(train_X, train_Y, test_X, ks, ile=3, batch_size=10000,verbose=False, ):\n",
        "    all_preds = {k: [] for k in ks}\n",
        "    for i in tqdm(range(0, test_X.shape[0], batch_size)):\n",
        "        batch_X = test_X[i:i + batch_size]\n",
        "        res=KNN_with_lsh(train_X,train_Y,batch_X,ks,4)\n",
        "        for k in all_preds.keys():\n",
        "            res[k]=res[k].reshape(batch_size,1)\n",
        "            if i==0:\n",
        "                all_preds[k]=res[k]\n",
        "            else:\n",
        "                all_preds[k] = np.concatenate((all_preds[k],res[k]))\n",
        "    return all_preds"
      ],
      "execution_count": 33,
      "outputs": []
    },
    {
      "cell_type": "code",
      "metadata": {
        "colab": {
          "base_uri": "https://localhost:8080/",
          "height": 332,
          "referenced_widgets": [
            "3b146f9c4ab64ac7b8b70b235242b776",
            "0bf5e11f45154da099020080dc4786fb",
            "d0d52815a47b4f159cdec8d144336179",
            "4ef47bfdb061432b8853f61836750f70",
            "72449eb85ec94dab9633103e72b60270",
            "ff23392a30c248759a3e0ed66f65e487",
            "9ede4b0785c4457fb98a740f5047f993",
            "573df03d5ee640b39e81371b7494e15b"
          ]
        },
        "id": "04fKzTtRCYdE",
        "outputId": "5b4355a6-2135-4485-ccb7-512773af17b1"
      },
      "source": [
        "ks = [1, 3, 5, 7, 9]\n",
        "preds = batched_KNN(\n",
        "    x_train_partial.astype('float32').reshape(-1, 28*28), y_train_partial,\n",
        "    x_val.astype('float32').reshape(-1, 28*28),\n",
        "    ks)\n",
        "mnist_validation_errs = err_rates(preds, y_val.reshape(10000,1))\n",
        "\n",
        "plt.plot(ks, [mnist_validation_errs[k] for k in ks])"
      ],
      "execution_count": 34,
      "outputs": [
        {
          "output_type": "display_data",
          "data": {
            "application/vnd.jupyter.widget-view+json": {
              "model_id": "3b146f9c4ab64ac7b8b70b235242b776",
              "version_minor": 0,
              "version_major": 2
            },
            "text/plain": [
              "HBox(children=(FloatProgress(value=0.0, max=1.0), HTML(value='')))"
            ]
          },
          "metadata": {
            "tags": []
          }
        },
        {
          "output_type": "stream",
          "text": [
            "\n"
          ],
          "name": "stdout"
        },
        {
          "output_type": "execute_result",
          "data": {
            "text/plain": [
              "[<matplotlib.lines.Line2D at 0x7f53309406a0>]"
            ]
          },
          "metadata": {
            "tags": []
          },
          "execution_count": 34
        },
        {
          "output_type": "display_data",
          "data": {
            "image/png": "[encoded data removed]",
            "text/plain": [
              "<Figure size 432x288 with 1 Axes>"
            ]
          },
          "metadata": {
            "tags": [],
            "needs_background": "light"
          }
        }
      ]
    },
    {
      "cell_type": "code",
      "metadata": {
        "colab": {
          "base_uri": "https://localhost:8080/",
          "height": 153,
          "referenced_widgets": [
            "0df248ef3f7c4fd18663f6b1f66b4630",
            "f18bb77b8b054be6b4c3b8eb1af2cc02",
            "748e2d145d9e4e8d80c54ee50a54502d",
            "642de408a559422e831e8cc394982533",
            "39451c1148064a2cb0ad0bec2400764d",
            "3be8f51bc43a4788aca5dc256c503d89",
            "1b11a10638e5414c905dc0164d2018bd",
            "b92cd4c1381442dd8dbbfc24e62011e4"
          ]
        },
        "id": "xekzZ6tYChSt",
        "outputId": "7fadb101-03fe-4be9-934f-1e5d90c38b3d"
      },
      "source": [
        "import timeit\n",
        "\n",
        "start = timeit.default_timer()\n",
        "\n",
        "best_K = 1\n",
        "\n",
        "test_preds = batched_KNN(\n",
        "    x_train.astype('float32').reshape(-1, 28*28), y_train,\n",
        "    x_test.astype('float32').reshape(-1, 28*28),\n",
        "    ks)\n",
        "mnist_test_errs = err_rates(test_preds, y_test.reshape(10000,1))\n",
        "mnist_test_errs[best_K]=mnist_test_errs[best_K].reshape(1,1)\n",
        "print(f\"\\n\\nWhen k={best_K} the test error rate is {mnist_test_errs[best_K] * 100.0}%%\")\n",
        "print(mnist_test_errs[best_K] * 100.0)\n",
        "\n",
        "stop = timeit.default_timer()\n",
        "\n",
        "print('Time: ', stop - start)  "
      ],
      "execution_count": 38,
      "outputs": [
        {
          "output_type": "display_data",
          "data": {
            "application/vnd.jupyter.widget-view+json": {
              "model_id": "0df248ef3f7c4fd18663f6b1f66b4630",
              "version_minor": 0,
              "version_major": 2
            },
            "text/plain": [
              "HBox(children=(FloatProgress(value=0.0, max=1.0), HTML(value='')))"
            ]
          },
          "metadata": {
            "tags": []
          }
        },
        {
          "output_type": "stream",
          "text": [
            "\n",
            "\n",
            "\n",
            "When k=1 the test error rate is [[4.73]]%%\n",
            "[[4.73]]\n",
            "Time:  10.372618267000007\n"
          ],
          "name": "stdout"
        }
      ]
    },
    {
      "cell_type": "code",
      "metadata": {
        "id": "IJAEUEpxDwkM"
      },
      "source": [
        ""
      ],
      "execution_count": null,
      "outputs": []
    }
  ]
}
